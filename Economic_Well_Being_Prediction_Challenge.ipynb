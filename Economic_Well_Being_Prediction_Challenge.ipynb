{
  "nbformat": 4,
  "nbformat_minor": 0,
  "metadata": {
    "colab": {
      "name": "Economic Well-Being Prediction Challenge.ipynb",
      "provenance": [],
      "toc_visible": true,
      "authorship_tag": "ABX9TyNjp+lEXFsHJ0EfJCxY+IOt",
      "include_colab_link": true
    },
    "kernelspec": {
      "name": "python3",
      "display_name": "Python 3"
    },
    "language_info": {
      "name": "python"
    }
  },
  "cells": [
    {
      "cell_type": "markdown",
      "metadata": {
        "id": "view-in-github",
        "colab_type": "text"
      },
      "source": [
        "<a href=\"https://colab.research.google.com/github/Omar-Ouardighi/Economic-Well-Being-Prediction-Challenge/blob/main/Economic_Well_Being_Prediction_Challenge.ipynb\" target=\"_parent\"><img src=\"https://colab.research.google.com/assets/colab-badge.svg\" alt=\"Open In Colab\"/></a>"
      ]
    },
    {
      "cell_type": "markdown",
      "metadata": {
        "id": "VNibVSdA1-z0"
      },
      "source": [
        "\n",
        "# Importing Libraries & Packages 📚 \n",
        "\n"
      ]
    },
    {
      "cell_type": "code",
      "metadata": {
        "id": "e8mSwiGfsR1f",
        "colab": {
          "base_uri": "https://localhost:8080/"
        },
        "outputId": "2ed2b273-9b99-4225-d0f3-565d73df9c36"
      },
      "source": [
        "pip install catboost"
      ],
      "execution_count": 1,
      "outputs": [
        {
          "output_type": "stream",
          "text": [
            "Requirement already satisfied: catboost in /usr/local/lib/python3.7/dist-packages (0.26.1)\n",
            "Requirement already satisfied: scipy in /usr/local/lib/python3.7/dist-packages (from catboost) (1.4.1)\n",
            "Requirement already satisfied: numpy>=1.16.0 in /usr/local/lib/python3.7/dist-packages (from catboost) (1.19.5)\n",
            "Requirement already satisfied: six in /usr/local/lib/python3.7/dist-packages (from catboost) (1.15.0)\n",
            "Requirement already satisfied: graphviz in /usr/local/lib/python3.7/dist-packages (from catboost) (0.10.1)\n",
            "Requirement already satisfied: matplotlib in /usr/local/lib/python3.7/dist-packages (from catboost) (3.2.2)\n",
            "Requirement already satisfied: plotly in /usr/local/lib/python3.7/dist-packages (from catboost) (4.4.1)\n",
            "Requirement already satisfied: pandas>=0.24.0 in /usr/local/lib/python3.7/dist-packages (from catboost) (1.1.5)\n",
            "Requirement already satisfied: python-dateutil>=2.7.3 in /usr/local/lib/python3.7/dist-packages (from pandas>=0.24.0->catboost) (2.8.2)\n",
            "Requirement already satisfied: pytz>=2017.2 in /usr/local/lib/python3.7/dist-packages (from pandas>=0.24.0->catboost) (2018.9)\n",
            "Requirement already satisfied: cycler>=0.10 in /usr/local/lib/python3.7/dist-packages (from matplotlib->catboost) (0.10.0)\n",
            "Requirement already satisfied: pyparsing!=2.0.4,!=2.1.2,!=2.1.6,>=2.0.1 in /usr/local/lib/python3.7/dist-packages (from matplotlib->catboost) (2.4.7)\n",
            "Requirement already satisfied: kiwisolver>=1.0.1 in /usr/local/lib/python3.7/dist-packages (from matplotlib->catboost) (1.3.1)\n",
            "Requirement already satisfied: retrying>=1.3.3 in /usr/local/lib/python3.7/dist-packages (from plotly->catboost) (1.3.3)\n"
          ],
          "name": "stdout"
        }
      ]
    },
    {
      "cell_type": "code",
      "metadata": {
        "id": "3inDyUINEaD3"
      },
      "source": [
        "import numpy as np \n",
        "import pandas as pd\n",
        "import matplotlib.pyplot as plt\n",
        "import seaborn as sns\n",
        "\n",
        "from sklearn.model_selection import RandomizedSearchCV, train_test_split\n",
        "from sklearn.ensemble import RandomForestRegressor\n",
        "from xgboost import XGBRegressor\n",
        "from sklearn.metrics import mean_squared_error\n",
        "from catboost import CatBoostRegressor\n"
      ],
      "execution_count": 2,
      "outputs": []
    },
    {
      "cell_type": "markdown",
      "metadata": {
        "id": "E9XqSvt82P4H"
      },
      "source": [
        "# Importing & Reading the dataset 📝 "
      ]
    },
    {
      "cell_type": "code",
      "metadata": {
        "colab": {
          "base_uri": "https://localhost:8080/"
        },
        "id": "h2QnJzRSEkSE",
        "outputId": "ff17e206-091d-4686-c800-d4b1fb7a31e1"
      },
      "source": [
        "train = pd.read_csv('Train.csv')\n",
        "test = pd.read_csv('Test.csv')\n",
        "sub = pd.read_csv('/content/SampleSubmission.csv')\n",
        "\n",
        "train.shape, test.shape"
      ],
      "execution_count": 3,
      "outputs": [
        {
          "output_type": "execute_result",
          "data": {
            "text/plain": [
              "((21454, 19), (7194, 18))"
            ]
          },
          "metadata": {
            "tags": []
          },
          "execution_count": 3
        }
      ]
    },
    {
      "cell_type": "code",
      "metadata": {
        "colab": {
          "base_uri": "https://localhost:8080/",
          "height": 226
        },
        "id": "AyTc40qu17CX",
        "outputId": "4de17f4a-f2e2-49a1-c450-c5cf78ff6f38"
      },
      "source": [
        "train.head()"
      ],
      "execution_count": 4,
      "outputs": [
        {
          "output_type": "execute_result",
          "data": {
            "text/html": [
              "<div>\n",
              "<style scoped>\n",
              "    .dataframe tbody tr th:only-of-type {\n",
              "        vertical-align: middle;\n",
              "    }\n",
              "\n",
              "    .dataframe tbody tr th {\n",
              "        vertical-align: top;\n",
              "    }\n",
              "\n",
              "    .dataframe thead th {\n",
              "        text-align: right;\n",
              "    }\n",
              "</style>\n",
              "<table border=\"1\" class=\"dataframe\">\n",
              "  <thead>\n",
              "    <tr style=\"text-align: right;\">\n",
              "      <th></th>\n",
              "      <th>ID</th>\n",
              "      <th>country</th>\n",
              "      <th>year</th>\n",
              "      <th>urban_or_rural</th>\n",
              "      <th>ghsl_water_surface</th>\n",
              "      <th>ghsl_built_pre_1975</th>\n",
              "      <th>ghsl_built_1975_to_1990</th>\n",
              "      <th>ghsl_built_1990_to_2000</th>\n",
              "      <th>ghsl_built_2000_to_2014</th>\n",
              "      <th>ghsl_not_built_up</th>\n",
              "      <th>ghsl_pop_density</th>\n",
              "      <th>landcover_crops_fraction</th>\n",
              "      <th>landcover_urban_fraction</th>\n",
              "      <th>landcover_water_permanent_10km_fraction</th>\n",
              "      <th>landcover_water_seasonal_10km_fraction</th>\n",
              "      <th>nighttime_lights</th>\n",
              "      <th>dist_to_capital</th>\n",
              "      <th>dist_to_shoreline</th>\n",
              "      <th>Target</th>\n",
              "    </tr>\n",
              "  </thead>\n",
              "  <tbody>\n",
              "    <tr>\n",
              "      <th>0</th>\n",
              "      <td>ID_AAIethGy</td>\n",
              "      <td>Ethiopia</td>\n",
              "      <td>2016</td>\n",
              "      <td>R</td>\n",
              "      <td>0.0</td>\n",
              "      <td>0.000000</td>\n",
              "      <td>0.000000</td>\n",
              "      <td>0.000055</td>\n",
              "      <td>0.000536</td>\n",
              "      <td>0.999408</td>\n",
              "      <td>12.146134</td>\n",
              "      <td>25.489659</td>\n",
              "      <td>0.879484</td>\n",
              "      <td>0.000000</td>\n",
              "      <td>0.000000</td>\n",
              "      <td>0.000000</td>\n",
              "      <td>278.788451</td>\n",
              "      <td>769.338378</td>\n",
              "      <td>0.132783</td>\n",
              "    </tr>\n",
              "    <tr>\n",
              "      <th>1</th>\n",
              "      <td>ID_AAYiaCeL</td>\n",
              "      <td>Ethiopia</td>\n",
              "      <td>2005</td>\n",
              "      <td>R</td>\n",
              "      <td>0.0</td>\n",
              "      <td>0.000000</td>\n",
              "      <td>0.000110</td>\n",
              "      <td>0.000000</td>\n",
              "      <td>0.000018</td>\n",
              "      <td>0.999872</td>\n",
              "      <td>113.806716</td>\n",
              "      <td>64.136053</td>\n",
              "      <td>0.601427</td>\n",
              "      <td>0.000000</td>\n",
              "      <td>0.005427</td>\n",
              "      <td>0.000000</td>\n",
              "      <td>200.986978</td>\n",
              "      <td>337.135243</td>\n",
              "      <td>0.004898</td>\n",
              "    </tr>\n",
              "    <tr>\n",
              "      <th>2</th>\n",
              "      <td>ID_AAdurmKj</td>\n",
              "      <td>Mozambique</td>\n",
              "      <td>2009</td>\n",
              "      <td>R</td>\n",
              "      <td>0.0</td>\n",
              "      <td>0.000000</td>\n",
              "      <td>0.000000</td>\n",
              "      <td>0.000000</td>\n",
              "      <td>0.000000</td>\n",
              "      <td>1.000000</td>\n",
              "      <td>0.000000</td>\n",
              "      <td>4.400096</td>\n",
              "      <td>0.131900</td>\n",
              "      <td>0.000000</td>\n",
              "      <td>0.003078</td>\n",
              "      <td>0.000000</td>\n",
              "      <td>642.594208</td>\n",
              "      <td>169.913773</td>\n",
              "      <td>0.097320</td>\n",
              "    </tr>\n",
              "    <tr>\n",
              "      <th>3</th>\n",
              "      <td>ID_AAgNHles</td>\n",
              "      <td>Malawi</td>\n",
              "      <td>2015</td>\n",
              "      <td>R</td>\n",
              "      <td>0.0</td>\n",
              "      <td>0.000141</td>\n",
              "      <td>0.000181</td>\n",
              "      <td>0.000254</td>\n",
              "      <td>0.000228</td>\n",
              "      <td>0.999195</td>\n",
              "      <td>5.213320</td>\n",
              "      <td>25.379371</td>\n",
              "      <td>2.017136</td>\n",
              "      <td>11.293841</td>\n",
              "      <td>0.131035</td>\n",
              "      <td>0.000000</td>\n",
              "      <td>365.349451</td>\n",
              "      <td>613.591610</td>\n",
              "      <td>0.304107</td>\n",
              "    </tr>\n",
              "    <tr>\n",
              "      <th>4</th>\n",
              "      <td>ID_AAishfND</td>\n",
              "      <td>Guinea</td>\n",
              "      <td>2012</td>\n",
              "      <td>U</td>\n",
              "      <td>0.0</td>\n",
              "      <td>0.011649</td>\n",
              "      <td>0.017560</td>\n",
              "      <td>0.017383</td>\n",
              "      <td>0.099875</td>\n",
              "      <td>0.853533</td>\n",
              "      <td>31.734661</td>\n",
              "      <td>5.081620</td>\n",
              "      <td>22.815984</td>\n",
              "      <td>0.005047</td>\n",
              "      <td>0.130475</td>\n",
              "      <td>1.461894</td>\n",
              "      <td>222.867189</td>\n",
              "      <td>192.926363</td>\n",
              "      <td>0.605328</td>\n",
              "    </tr>\n",
              "  </tbody>\n",
              "</table>\n",
              "</div>"
            ],
            "text/plain": [
              "            ID     country  year  ... dist_to_capital  dist_to_shoreline    Target\n",
              "0  ID_AAIethGy    Ethiopia  2016  ...      278.788451         769.338378  0.132783\n",
              "1  ID_AAYiaCeL    Ethiopia  2005  ...      200.986978         337.135243  0.004898\n",
              "2  ID_AAdurmKj  Mozambique  2009  ...      642.594208         169.913773  0.097320\n",
              "3  ID_AAgNHles      Malawi  2015  ...      365.349451         613.591610  0.304107\n",
              "4  ID_AAishfND      Guinea  2012  ...      222.867189         192.926363  0.605328\n",
              "\n",
              "[5 rows x 19 columns]"
            ]
          },
          "metadata": {
            "tags": []
          },
          "execution_count": 4
        }
      ]
    },
    {
      "cell_type": "code",
      "metadata": {
        "colab": {
          "base_uri": "https://localhost:8080/",
          "height": 571
        },
        "id": "HCorcejOEqS5",
        "outputId": "74786e53-7da0-46cc-9127-6c0c9eacd8eb"
      },
      "source": [
        "train.describe().T"
      ],
      "execution_count": 5,
      "outputs": [
        {
          "output_type": "execute_result",
          "data": {
            "text/html": [
              "<div>\n",
              "<style scoped>\n",
              "    .dataframe tbody tr th:only-of-type {\n",
              "        vertical-align: middle;\n",
              "    }\n",
              "\n",
              "    .dataframe tbody tr th {\n",
              "        vertical-align: top;\n",
              "    }\n",
              "\n",
              "    .dataframe thead th {\n",
              "        text-align: right;\n",
              "    }\n",
              "</style>\n",
              "<table border=\"1\" class=\"dataframe\">\n",
              "  <thead>\n",
              "    <tr style=\"text-align: right;\">\n",
              "      <th></th>\n",
              "      <th>count</th>\n",
              "      <th>mean</th>\n",
              "      <th>std</th>\n",
              "      <th>min</th>\n",
              "      <th>25%</th>\n",
              "      <th>50%</th>\n",
              "      <th>75%</th>\n",
              "      <th>max</th>\n",
              "    </tr>\n",
              "  </thead>\n",
              "  <tbody>\n",
              "    <tr>\n",
              "      <th>year</th>\n",
              "      <td>21454.0</td>\n",
              "      <td>2010.060874</td>\n",
              "      <td>4.799579</td>\n",
              "      <td>1994.000000</td>\n",
              "      <td>2008.000000</td>\n",
              "      <td>2011.000000</td>\n",
              "      <td>2014.000000</td>\n",
              "      <td>2016.000000</td>\n",
              "    </tr>\n",
              "    <tr>\n",
              "      <th>ghsl_water_surface</th>\n",
              "      <td>21454.0</td>\n",
              "      <td>0.028259</td>\n",
              "      <td>0.097490</td>\n",
              "      <td>0.000000</td>\n",
              "      <td>0.000000</td>\n",
              "      <td>0.000000</td>\n",
              "      <td>0.000000</td>\n",
              "      <td>0.969956</td>\n",
              "    </tr>\n",
              "    <tr>\n",
              "      <th>ghsl_built_pre_1975</th>\n",
              "      <td>21454.0</td>\n",
              "      <td>0.038222</td>\n",
              "      <td>0.113562</td>\n",
              "      <td>0.000000</td>\n",
              "      <td>0.000000</td>\n",
              "      <td>0.000198</td>\n",
              "      <td>0.007987</td>\n",
              "      <td>0.877116</td>\n",
              "    </tr>\n",
              "    <tr>\n",
              "      <th>ghsl_built_1975_to_1990</th>\n",
              "      <td>21454.0</td>\n",
              "      <td>0.028644</td>\n",
              "      <td>0.077367</td>\n",
              "      <td>0.000000</td>\n",
              "      <td>0.000000</td>\n",
              "      <td>0.000709</td>\n",
              "      <td>0.009868</td>\n",
              "      <td>0.685010</td>\n",
              "    </tr>\n",
              "    <tr>\n",
              "      <th>ghsl_built_1990_to_2000</th>\n",
              "      <td>21454.0</td>\n",
              "      <td>0.012689</td>\n",
              "      <td>0.032745</td>\n",
              "      <td>0.000000</td>\n",
              "      <td>0.000043</td>\n",
              "      <td>0.001001</td>\n",
              "      <td>0.008128</td>\n",
              "      <td>0.515534</td>\n",
              "    </tr>\n",
              "    <tr>\n",
              "      <th>ghsl_built_2000_to_2014</th>\n",
              "      <td>21454.0</td>\n",
              "      <td>0.018386</td>\n",
              "      <td>0.040421</td>\n",
              "      <td>0.000000</td>\n",
              "      <td>0.000124</td>\n",
              "      <td>0.001871</td>\n",
              "      <td>0.014936</td>\n",
              "      <td>0.649159</td>\n",
              "    </tr>\n",
              "    <tr>\n",
              "      <th>ghsl_not_built_up</th>\n",
              "      <td>21454.0</td>\n",
              "      <td>0.873800</td>\n",
              "      <td>0.239294</td>\n",
              "      <td>0.000859</td>\n",
              "      <td>0.897867</td>\n",
              "      <td>0.991919</td>\n",
              "      <td>0.999532</td>\n",
              "      <td>1.000000</td>\n",
              "    </tr>\n",
              "    <tr>\n",
              "      <th>ghsl_pop_density</th>\n",
              "      <td>21454.0</td>\n",
              "      <td>95.756775</td>\n",
              "      <td>209.704761</td>\n",
              "      <td>0.000000</td>\n",
              "      <td>3.848533</td>\n",
              "      <td>17.632672</td>\n",
              "      <td>63.225683</td>\n",
              "      <td>1741.256516</td>\n",
              "    </tr>\n",
              "    <tr>\n",
              "      <th>landcover_crops_fraction</th>\n",
              "      <td>21454.0</td>\n",
              "      <td>21.034265</td>\n",
              "      <td>16.751106</td>\n",
              "      <td>0.000000</td>\n",
              "      <td>5.610515</td>\n",
              "      <td>18.509291</td>\n",
              "      <td>33.590293</td>\n",
              "      <td>80.064918</td>\n",
              "    </tr>\n",
              "    <tr>\n",
              "      <th>landcover_urban_fraction</th>\n",
              "      <td>21454.0</td>\n",
              "      <td>13.999061</td>\n",
              "      <td>23.715485</td>\n",
              "      <td>0.000000</td>\n",
              "      <td>0.798841</td>\n",
              "      <td>2.770159</td>\n",
              "      <td>12.621501</td>\n",
              "      <td>98.784092</td>\n",
              "    </tr>\n",
              "    <tr>\n",
              "      <th>landcover_water_permanent_10km_fraction</th>\n",
              "      <td>21454.0</td>\n",
              "      <td>1.486849</td>\n",
              "      <td>6.550171</td>\n",
              "      <td>0.000000</td>\n",
              "      <td>0.000000</td>\n",
              "      <td>0.000516</td>\n",
              "      <td>0.152364</td>\n",
              "      <td>99.164018</td>\n",
              "    </tr>\n",
              "    <tr>\n",
              "      <th>landcover_water_seasonal_10km_fraction</th>\n",
              "      <td>21454.0</td>\n",
              "      <td>0.714891</td>\n",
              "      <td>2.383701</td>\n",
              "      <td>0.000000</td>\n",
              "      <td>0.001325</td>\n",
              "      <td>0.029151</td>\n",
              "      <td>0.381969</td>\n",
              "      <td>56.201637</td>\n",
              "    </tr>\n",
              "    <tr>\n",
              "      <th>nighttime_lights</th>\n",
              "      <td>21454.0</td>\n",
              "      <td>8.506543</td>\n",
              "      <td>21.090378</td>\n",
              "      <td>0.000000</td>\n",
              "      <td>0.000000</td>\n",
              "      <td>0.137333</td>\n",
              "      <td>4.830194</td>\n",
              "      <td>382.932769</td>\n",
              "    </tr>\n",
              "    <tr>\n",
              "      <th>dist_to_capital</th>\n",
              "      <td>21454.0</td>\n",
              "      <td>289.722268</td>\n",
              "      <td>238.811778</td>\n",
              "      <td>0.105306</td>\n",
              "      <td>115.890873</td>\n",
              "      <td>256.736472</td>\n",
              "      <td>401.153071</td>\n",
              "      <td>1897.351575</td>\n",
              "    </tr>\n",
              "    <tr>\n",
              "      <th>dist_to_shoreline</th>\n",
              "      <td>21454.0</td>\n",
              "      <td>402.608539</td>\n",
              "      <td>321.517285</td>\n",
              "      <td>0.112080</td>\n",
              "      <td>126.379463</td>\n",
              "      <td>327.271973</td>\n",
              "      <td>643.910675</td>\n",
              "      <td>1769.523906</td>\n",
              "    </tr>\n",
              "    <tr>\n",
              "      <th>Target</th>\n",
              "      <td>21454.0</td>\n",
              "      <td>0.350736</td>\n",
              "      <td>0.194376</td>\n",
              "      <td>0.000000</td>\n",
              "      <td>0.195772</td>\n",
              "      <td>0.293574</td>\n",
              "      <td>0.499003</td>\n",
              "      <td>1.000000</td>\n",
              "    </tr>\n",
              "  </tbody>\n",
              "</table>\n",
              "</div>"
            ],
            "text/plain": [
              "                                           count  ...          max\n",
              "year                                     21454.0  ...  2016.000000\n",
              "ghsl_water_surface                       21454.0  ...     0.969956\n",
              "ghsl_built_pre_1975                      21454.0  ...     0.877116\n",
              "ghsl_built_1975_to_1990                  21454.0  ...     0.685010\n",
              "ghsl_built_1990_to_2000                  21454.0  ...     0.515534\n",
              "ghsl_built_2000_to_2014                  21454.0  ...     0.649159\n",
              "ghsl_not_built_up                        21454.0  ...     1.000000\n",
              "ghsl_pop_density                         21454.0  ...  1741.256516\n",
              "landcover_crops_fraction                 21454.0  ...    80.064918\n",
              "landcover_urban_fraction                 21454.0  ...    98.784092\n",
              "landcover_water_permanent_10km_fraction  21454.0  ...    99.164018\n",
              "landcover_water_seasonal_10km_fraction   21454.0  ...    56.201637\n",
              "nighttime_lights                         21454.0  ...   382.932769\n",
              "dist_to_capital                          21454.0  ...  1897.351575\n",
              "dist_to_shoreline                        21454.0  ...  1769.523906\n",
              "Target                                   21454.0  ...     1.000000\n",
              "\n",
              "[16 rows x 8 columns]"
            ]
          },
          "metadata": {
            "tags": []
          },
          "execution_count": 5
        }
      ]
    },
    {
      "cell_type": "code",
      "metadata": {
        "colab": {
          "base_uri": "https://localhost:8080/"
        },
        "id": "AfuZNqFJExwO",
        "outputId": "161813da-9876-4ab8-e2e0-5e03e5c0d222"
      },
      "source": [
        "train.info()"
      ],
      "execution_count": 6,
      "outputs": [
        {
          "output_type": "stream",
          "text": [
            "<class 'pandas.core.frame.DataFrame'>\n",
            "RangeIndex: 21454 entries, 0 to 21453\n",
            "Data columns (total 19 columns):\n",
            " #   Column                                   Non-Null Count  Dtype  \n",
            "---  ------                                   --------------  -----  \n",
            " 0   ID                                       21454 non-null  object \n",
            " 1   country                                  21454 non-null  object \n",
            " 2   year                                     21454 non-null  int64  \n",
            " 3   urban_or_rural                           21454 non-null  object \n",
            " 4   ghsl_water_surface                       21454 non-null  float64\n",
            " 5   ghsl_built_pre_1975                      21454 non-null  float64\n",
            " 6   ghsl_built_1975_to_1990                  21454 non-null  float64\n",
            " 7   ghsl_built_1990_to_2000                  21454 non-null  float64\n",
            " 8   ghsl_built_2000_to_2014                  21454 non-null  float64\n",
            " 9   ghsl_not_built_up                        21454 non-null  float64\n",
            " 10  ghsl_pop_density                         21454 non-null  float64\n",
            " 11  landcover_crops_fraction                 21454 non-null  float64\n",
            " 12  landcover_urban_fraction                 21454 non-null  float64\n",
            " 13  landcover_water_permanent_10km_fraction  21454 non-null  float64\n",
            " 14  landcover_water_seasonal_10km_fraction   21454 non-null  float64\n",
            " 15  nighttime_lights                         21454 non-null  float64\n",
            " 16  dist_to_capital                          21454 non-null  float64\n",
            " 17  dist_to_shoreline                        21454 non-null  float64\n",
            " 18  Target                                   21454 non-null  float64\n",
            "dtypes: float64(15), int64(1), object(3)\n",
            "memory usage: 3.1+ MB\n"
          ],
          "name": "stdout"
        }
      ]
    },
    {
      "cell_type": "code",
      "metadata": {
        "colab": {
          "base_uri": "https://localhost:8080/",
          "height": 540
        },
        "id": "DkQAb7b02c4w",
        "outputId": "26e48495-7b02-46da-88c2-e445743d8d68"
      },
      "source": [
        "test.describe().T"
      ],
      "execution_count": 7,
      "outputs": [
        {
          "output_type": "execute_result",
          "data": {
            "text/html": [
              "<div>\n",
              "<style scoped>\n",
              "    .dataframe tbody tr th:only-of-type {\n",
              "        vertical-align: middle;\n",
              "    }\n",
              "\n",
              "    .dataframe tbody tr th {\n",
              "        vertical-align: top;\n",
              "    }\n",
              "\n",
              "    .dataframe thead th {\n",
              "        text-align: right;\n",
              "    }\n",
              "</style>\n",
              "<table border=\"1\" class=\"dataframe\">\n",
              "  <thead>\n",
              "    <tr style=\"text-align: right;\">\n",
              "      <th></th>\n",
              "      <th>count</th>\n",
              "      <th>mean</th>\n",
              "      <th>std</th>\n",
              "      <th>min</th>\n",
              "      <th>25%</th>\n",
              "      <th>50%</th>\n",
              "      <th>75%</th>\n",
              "      <th>max</th>\n",
              "    </tr>\n",
              "  </thead>\n",
              "  <tbody>\n",
              "    <tr>\n",
              "      <th>year</th>\n",
              "      <td>7194.0</td>\n",
              "      <td>2010.899778</td>\n",
              "      <td>3.651409</td>\n",
              "      <td>1998.000000</td>\n",
              "      <td>2010.000000</td>\n",
              "      <td>2011.000000</td>\n",
              "      <td>2014.000000</td>\n",
              "      <td>2016.000000</td>\n",
              "    </tr>\n",
              "    <tr>\n",
              "      <th>ghsl_water_surface</th>\n",
              "      <td>7194.0</td>\n",
              "      <td>0.023317</td>\n",
              "      <td>0.087915</td>\n",
              "      <td>0.000000</td>\n",
              "      <td>0.000000</td>\n",
              "      <td>0.000000</td>\n",
              "      <td>0.000000</td>\n",
              "      <td>0.991100</td>\n",
              "    </tr>\n",
              "    <tr>\n",
              "      <th>ghsl_built_pre_1975</th>\n",
              "      <td>7194.0</td>\n",
              "      <td>0.049325</td>\n",
              "      <td>0.132582</td>\n",
              "      <td>0.000000</td>\n",
              "      <td>0.000000</td>\n",
              "      <td>0.000089</td>\n",
              "      <td>0.008020</td>\n",
              "      <td>0.894608</td>\n",
              "    </tr>\n",
              "    <tr>\n",
              "      <th>ghsl_built_1975_to_1990</th>\n",
              "      <td>7194.0</td>\n",
              "      <td>0.025364</td>\n",
              "      <td>0.057233</td>\n",
              "      <td>0.000000</td>\n",
              "      <td>0.000000</td>\n",
              "      <td>0.000320</td>\n",
              "      <td>0.010774</td>\n",
              "      <td>0.506349</td>\n",
              "    </tr>\n",
              "    <tr>\n",
              "      <th>ghsl_built_1990_to_2000</th>\n",
              "      <td>7194.0</td>\n",
              "      <td>0.016767</td>\n",
              "      <td>0.038079</td>\n",
              "      <td>0.000000</td>\n",
              "      <td>0.000019</td>\n",
              "      <td>0.000720</td>\n",
              "      <td>0.012036</td>\n",
              "      <td>0.275297</td>\n",
              "    </tr>\n",
              "    <tr>\n",
              "      <th>ghsl_built_2000_to_2014</th>\n",
              "      <td>7194.0</td>\n",
              "      <td>0.018319</td>\n",
              "      <td>0.039703</td>\n",
              "      <td>0.000000</td>\n",
              "      <td>0.000075</td>\n",
              "      <td>0.001359</td>\n",
              "      <td>0.015915</td>\n",
              "      <td>0.359931</td>\n",
              "    </tr>\n",
              "    <tr>\n",
              "      <th>ghsl_not_built_up</th>\n",
              "      <td>7194.0</td>\n",
              "      <td>0.866908</td>\n",
              "      <td>0.252557</td>\n",
              "      <td>0.008900</td>\n",
              "      <td>0.889836</td>\n",
              "      <td>0.994922</td>\n",
              "      <td>0.999738</td>\n",
              "      <td>1.000000</td>\n",
              "    </tr>\n",
              "    <tr>\n",
              "      <th>ghsl_pop_density</th>\n",
              "      <td>7194.0</td>\n",
              "      <td>93.147365</td>\n",
              "      <td>211.196451</td>\n",
              "      <td>0.000000</td>\n",
              "      <td>1.071279</td>\n",
              "      <td>12.290615</td>\n",
              "      <td>66.695301</td>\n",
              "      <td>1902.876955</td>\n",
              "    </tr>\n",
              "    <tr>\n",
              "      <th>landcover_crops_fraction</th>\n",
              "      <td>7194.0</td>\n",
              "      <td>21.285033</td>\n",
              "      <td>14.916804</td>\n",
              "      <td>0.000000</td>\n",
              "      <td>7.855023</td>\n",
              "      <td>21.105082</td>\n",
              "      <td>31.998608</td>\n",
              "      <td>74.401875</td>\n",
              "    </tr>\n",
              "    <tr>\n",
              "      <th>landcover_urban_fraction</th>\n",
              "      <td>7194.0</td>\n",
              "      <td>14.318006</td>\n",
              "      <td>24.510227</td>\n",
              "      <td>0.000000</td>\n",
              "      <td>0.459067</td>\n",
              "      <td>2.087011</td>\n",
              "      <td>14.174194</td>\n",
              "      <td>97.210607</td>\n",
              "    </tr>\n",
              "    <tr>\n",
              "      <th>landcover_water_permanent_10km_fraction</th>\n",
              "      <td>7194.0</td>\n",
              "      <td>2.212083</td>\n",
              "      <td>8.683106</td>\n",
              "      <td>0.000000</td>\n",
              "      <td>0.000000</td>\n",
              "      <td>0.002072</td>\n",
              "      <td>0.222664</td>\n",
              "      <td>96.978486</td>\n",
              "    </tr>\n",
              "    <tr>\n",
              "      <th>landcover_water_seasonal_10km_fraction</th>\n",
              "      <td>7194.0</td>\n",
              "      <td>0.634295</td>\n",
              "      <td>2.383202</td>\n",
              "      <td>0.000000</td>\n",
              "      <td>0.001444</td>\n",
              "      <td>0.052594</td>\n",
              "      <td>0.351605</td>\n",
              "      <td>47.232629</td>\n",
              "    </tr>\n",
              "    <tr>\n",
              "      <th>nighttime_lights</th>\n",
              "      <td>7194.0</td>\n",
              "      <td>11.508951</td>\n",
              "      <td>37.313751</td>\n",
              "      <td>0.000000</td>\n",
              "      <td>0.000000</td>\n",
              "      <td>0.000000</td>\n",
              "      <td>5.543974</td>\n",
              "      <td>403.455783</td>\n",
              "    </tr>\n",
              "    <tr>\n",
              "      <th>dist_to_capital</th>\n",
              "      <td>7194.0</td>\n",
              "      <td>332.979023</td>\n",
              "      <td>341.906808</td>\n",
              "      <td>0.437825</td>\n",
              "      <td>101.060708</td>\n",
              "      <td>241.468141</td>\n",
              "      <td>415.621994</td>\n",
              "      <td>1908.105037</td>\n",
              "    </tr>\n",
              "    <tr>\n",
              "      <th>dist_to_shoreline</th>\n",
              "      <td>7194.0</td>\n",
              "      <td>686.113119</td>\n",
              "      <td>368.546747</td>\n",
              "      <td>0.898246</td>\n",
              "      <td>409.104775</td>\n",
              "      <td>759.849023</td>\n",
              "      <td>954.987511</td>\n",
              "      <td>1748.559242</td>\n",
              "    </tr>\n",
              "  </tbody>\n",
              "</table>\n",
              "</div>"
            ],
            "text/plain": [
              "                                          count  ...          max\n",
              "year                                     7194.0  ...  2016.000000\n",
              "ghsl_water_surface                       7194.0  ...     0.991100\n",
              "ghsl_built_pre_1975                      7194.0  ...     0.894608\n",
              "ghsl_built_1975_to_1990                  7194.0  ...     0.506349\n",
              "ghsl_built_1990_to_2000                  7194.0  ...     0.275297\n",
              "ghsl_built_2000_to_2014                  7194.0  ...     0.359931\n",
              "ghsl_not_built_up                        7194.0  ...     1.000000\n",
              "ghsl_pop_density                         7194.0  ...  1902.876955\n",
              "landcover_crops_fraction                 7194.0  ...    74.401875\n",
              "landcover_urban_fraction                 7194.0  ...    97.210607\n",
              "landcover_water_permanent_10km_fraction  7194.0  ...    96.978486\n",
              "landcover_water_seasonal_10km_fraction   7194.0  ...    47.232629\n",
              "nighttime_lights                         7194.0  ...   403.455783\n",
              "dist_to_capital                          7194.0  ...  1908.105037\n",
              "dist_to_shoreline                        7194.0  ...  1748.559242\n",
              "\n",
              "[15 rows x 8 columns]"
            ]
          },
          "metadata": {
            "tags": []
          },
          "execution_count": 7
        }
      ]
    },
    {
      "cell_type": "markdown",
      "metadata": {
        "id": "nKdIUkJD2zk2"
      },
      "source": [
        "# Exploration Data Analysis\n",
        "\n",
        "\n"
      ]
    },
    {
      "cell_type": "code",
      "metadata": {
        "colab": {
          "base_uri": "https://localhost:8080/"
        },
        "id": "2nAkJbWFE2v_",
        "outputId": "6a4dd321-148b-4616-d369-a2d6a6b50908"
      },
      "source": [
        "train.isna().sum()"
      ],
      "execution_count": 8,
      "outputs": [
        {
          "output_type": "execute_result",
          "data": {
            "text/plain": [
              "ID                                         0\n",
              "country                                    0\n",
              "year                                       0\n",
              "urban_or_rural                             0\n",
              "ghsl_water_surface                         0\n",
              "ghsl_built_pre_1975                        0\n",
              "ghsl_built_1975_to_1990                    0\n",
              "ghsl_built_1990_to_2000                    0\n",
              "ghsl_built_2000_to_2014                    0\n",
              "ghsl_not_built_up                          0\n",
              "ghsl_pop_density                           0\n",
              "landcover_crops_fraction                   0\n",
              "landcover_urban_fraction                   0\n",
              "landcover_water_permanent_10km_fraction    0\n",
              "landcover_water_seasonal_10km_fraction     0\n",
              "nighttime_lights                           0\n",
              "dist_to_capital                            0\n",
              "dist_to_shoreline                          0\n",
              "Target                                     0\n",
              "dtype: int64"
            ]
          },
          "metadata": {
            "tags": []
          },
          "execution_count": 8
        }
      ]
    },
    {
      "cell_type": "code",
      "metadata": {
        "colab": {
          "base_uri": "https://localhost:8080/"
        },
        "id": "d7xZX6Fk25dn",
        "outputId": "d29744ef-7155-42da-bf05-970d051788ab"
      },
      "source": [
        "test.isna().sum()"
      ],
      "execution_count": 9,
      "outputs": [
        {
          "output_type": "execute_result",
          "data": {
            "text/plain": [
              "ID                                         0\n",
              "country                                    0\n",
              "year                                       0\n",
              "urban_or_rural                             0\n",
              "ghsl_water_surface                         0\n",
              "ghsl_built_pre_1975                        0\n",
              "ghsl_built_1975_to_1990                    0\n",
              "ghsl_built_1990_to_2000                    0\n",
              "ghsl_built_2000_to_2014                    0\n",
              "ghsl_not_built_up                          0\n",
              "ghsl_pop_density                           0\n",
              "landcover_crops_fraction                   0\n",
              "landcover_urban_fraction                   0\n",
              "landcover_water_permanent_10km_fraction    0\n",
              "landcover_water_seasonal_10km_fraction     0\n",
              "nighttime_lights                           0\n",
              "dist_to_capital                            0\n",
              "dist_to_shoreline                          0\n",
              "dtype: int64"
            ]
          },
          "metadata": {
            "tags": []
          },
          "execution_count": 9
        }
      ]
    },
    {
      "cell_type": "code",
      "metadata": {
        "colab": {
          "base_uri": "https://localhost:8080/"
        },
        "id": "GeVDFohrFB2M",
        "outputId": "c3c91163-f8f4-45b0-997c-ef5a525d42d1"
      },
      "source": [
        "train['country'].value_counts()"
      ],
      "execution_count": 10,
      "outputs": [
        {
          "output_type": "execute_result",
          "data": {
            "text/plain": [
              "Nigeria                     2695\n",
              "Kenya                       2626\n",
              "Tanzania                    2450\n",
              "Malawi                      1957\n",
              "Ethiopia                    1721\n",
              "Ghana                       1419\n",
              "Mali                        1295\n",
              "Cameroon                    1041\n",
              "Rwanda                       984\n",
              "Senegal                      903\n",
              "Mozambique                   879\n",
              "Lesotho                      794\n",
              "Sierra Leone                 785\n",
              "Guinea                       593\n",
              "Cote d'Ivoire                481\n",
              "Togo                         330\n",
              "Swaziland                    270\n",
              "Central African Republic     231\n",
              "Name: country, dtype: int64"
            ]
          },
          "metadata": {
            "tags": []
          },
          "execution_count": 10
        }
      ]
    },
    {
      "cell_type": "code",
      "metadata": {
        "colab": {
          "base_uri": "https://localhost:8080/"
        },
        "id": "sldpUImeKPhb",
        "outputId": "05f88631-6928-4f97-abcb-f7307efdbfe8"
      },
      "source": [
        "test['country'].value_counts()"
      ],
      "execution_count": 11,
      "outputs": [
        {
          "output_type": "execute_result",
          "data": {
            "text/plain": [
              "Uganda                          1584\n",
              "Zimbabwe                        1189\n",
              "Zambia                          1038\n",
              "Burkina Faso                     997\n",
              "Angola                           855\n",
              "Democratic Republic of Congo     785\n",
              "Benin                            746\n",
              "Name: country, dtype: int64"
            ]
          },
          "metadata": {
            "tags": []
          },
          "execution_count": 11
        }
      ]
    },
    {
      "cell_type": "code",
      "metadata": {
        "colab": {
          "base_uri": "https://localhost:8080/"
        },
        "id": "kFn1X_kE34xb",
        "outputId": "966fd81e-13b3-44d7-f284-56167ca3fd83"
      },
      "source": [
        "# Finding correlation\n",
        "correlations_data = train.corr()['Target'].sort_values()\n",
        "correlations_data"
      ],
      "execution_count": 12,
      "outputs": [
        {
          "output_type": "execute_result",
          "data": {
            "text/plain": [
              "ghsl_not_built_up                         -0.580670\n",
              "dist_to_shoreline                         -0.321828\n",
              "landcover_crops_fraction                  -0.253550\n",
              "dist_to_capital                           -0.235850\n",
              "landcover_water_permanent_10km_fraction    0.017210\n",
              "landcover_water_seasonal_10km_fraction     0.066462\n",
              "year                                       0.115014\n",
              "ghsl_water_surface                         0.182816\n",
              "ghsl_built_1990_to_2000                    0.425059\n",
              "ghsl_built_2000_to_2014                    0.429262\n",
              "ghsl_built_pre_1975                        0.450119\n",
              "ghsl_built_1975_to_1990                    0.500753\n",
              "ghsl_pop_density                           0.525206\n",
              "nighttime_lights                           0.550703\n",
              "landcover_urban_fraction                   0.666768\n",
              "Target                                     1.000000\n",
              "Name: Target, dtype: float64"
            ]
          },
          "metadata": {
            "tags": []
          },
          "execution_count": 12
        }
      ]
    },
    {
      "cell_type": "code",
      "metadata": {
        "colab": {
          "base_uri": "https://localhost:8080/",
          "height": 618
        },
        "id": "IaKkk2W14Wcv",
        "outputId": "ebaf2af4-8b92-4a2b-d93d-3bdfce7108ac"
      },
      "source": [
        "plt.figure(figsize=(10,6))\n",
        "correlations_data.plot(kind='bar', grid=True)\n",
        "plt.title('Features correlation')"
      ],
      "execution_count": 13,
      "outputs": [
        {
          "output_type": "execute_result",
          "data": {
            "text/plain": [
              "Text(0.5, 1.0, 'Features correlation')"
            ]
          },
          "metadata": {
            "tags": []
          },
          "execution_count": 13
        },
        {
          "output_type": "display_data",
          "data": {
            "image/png": "[encoded data removed]",
            "text/plain": [
              "<Figure size 720x432 with 1 Axes>"
            ]
          },
          "metadata": {
            "tags": [],
            "needs_background": "light"
          }
        }
      ]
    },
    {
      "cell_type": "markdown",
      "metadata": {
        "id": "yJ0RWi_25SnA"
      },
      "source": [
        "# Data Preparation"
      ]
    },
    {
      "cell_type": "code",
      "metadata": {
        "colab": {
          "base_uri": "https://localhost:8080/"
        },
        "id": "qr9Wzin8LQb1",
        "outputId": "7ce5d137-1f1e-406f-8cfc-b8aec1317438"
      },
      "source": [
        "# selecting input features\n",
        "in_cols = list(train.columns[4:-1])\n",
        "print('Input columns:', in_cols)"
      ],
      "execution_count": 14,
      "outputs": [
        {
          "output_type": "stream",
          "text": [
            "Input columns: ['ghsl_water_surface', 'ghsl_built_pre_1975', 'ghsl_built_1975_to_1990', 'ghsl_built_1990_to_2000', 'ghsl_built_2000_to_2014', 'ghsl_not_built_up', 'ghsl_pop_density', 'landcover_crops_fraction', 'landcover_urban_fraction', 'landcover_water_permanent_10km_fraction', 'landcover_water_seasonal_10km_fraction', 'nighttime_lights', 'dist_to_capital', 'dist_to_shoreline']\n"
          ],
          "name": "stdout"
        }
      ]
    },
    {
      "cell_type": "code",
      "metadata": {
        "id": "OCTIGy9vqJJp"
      },
      "source": [
        "train['is_urban'] = (train['urban_or_rural'] == 'U').astype(int)\n",
        "test['is_urban'] = (test['urban_or_rural'] == 'U').astype(int)"
      ],
      "execution_count": 15,
      "outputs": []
    },
    {
      "cell_type": "code",
      "metadata": {
        "colab": {
          "base_uri": "https://localhost:8080/"
        },
        "id": "enIlOkJ2L1-C",
        "outputId": "819e530a-73fe-43e6-c898-3869ec6b6f0f"
      },
      "source": [
        "in_cols.append('is_urban')\n",
        "\n",
        "#spliting the Data\n",
        "X, y = train[in_cols], train['Target']\n",
        "X_test = test[in_cols]\n",
        "\n",
        "X_train, X_val, y_train, y_val = train_test_split(X, y, test_size=0.2, random_state=58) # Random state keeps the split consistent\n",
        "print(X_train.shape, X_val.shape)"
      ],
      "execution_count": 16,
      "outputs": [
        {
          "output_type": "stream",
          "text": [
            "(17163, 15) (4291, 15)\n"
          ],
          "name": "stdout"
        }
      ]
    },
    {
      "cell_type": "markdown",
      "metadata": {
        "id": "_unVScMJ6urq"
      },
      "source": [
        "# Modeling"
      ]
    },
    {
      "cell_type": "markdown",
      "metadata": {
        "id": "SqkN7r_WqxEL"
      },
      "source": [
        "\n",
        "\n",
        "##XGBoost Regressor\n",
        "\n",
        "I trained the model with best parameters after doing Randomized search.\n",
        "\n",
        "the RMSE = 0.10387597065950029, there is still room for optimisation \n"
      ]
    },
    {
      "cell_type": "code",
      "metadata": {
        "colab": {
          "base_uri": "https://localhost:8080/"
        },
        "id": "xYIZJmyYL7g9",
        "outputId": "6ac0ab82-a2d0-42cc-c41d-fb5efda24082"
      },
      "source": [
        "\n",
        "model= XGBRegressor(subsample= 0.9, min_child_weight= 1, max_depth=17, \n",
        "                    gamma= 0.05, eta= 0.025, colsample_bytree= 0.7,random_state=42)\n",
        "\n",
        "model.fit(X_train,y_train)\n"
      ],
      "execution_count": 17,
      "outputs": [
        {
          "output_type": "stream",
          "text": [
            "[09:31:29] WARNING: /workspace/src/objective/regression_obj.cu:152: reg:linear is now deprecated in favor of reg:squarederror.\n"
          ],
          "name": "stdout"
        },
        {
          "output_type": "execute_result",
          "data": {
            "text/plain": [
              "XGBRegressor(base_score=0.5, booster='gbtree', colsample_bylevel=1,\n",
              "             colsample_bynode=1, colsample_bytree=0.7, eta=0.025, gamma=0.05,\n",
              "             importance_type='gain', learning_rate=0.1, max_delta_step=0,\n",
              "             max_depth=17, min_child_weight=1, missing=None, n_estimators=100,\n",
              "             n_jobs=1, nthread=None, objective='reg:linear', random_state=42,\n",
              "             reg_alpha=0, reg_lambda=1, scale_pos_weight=1, seed=None,\n",
              "             silent=None, subsample=0.9, verbosity=1)"
            ]
          },
          "metadata": {
            "tags": []
          },
          "execution_count": 17
        }
      ]
    },
    {
      "cell_type": "code",
      "metadata": {
        "colab": {
          "base_uri": "https://localhost:8080/"
        },
        "id": "GVLpMCUmMt0s",
        "outputId": "c4793c32-897c-43eb-d58d-9b32a8384be5"
      },
      "source": [
        "# The `squared=False` bit tells this function to return the ROOT mean squared error\n",
        "mean_squared_error(y_val, model.predict(X_val), squared=False)"
      ],
      "execution_count": 18,
      "outputs": [
        {
          "output_type": "execute_result",
          "data": {
            "text/plain": [
              "0.10387597065950029"
            ]
          },
          "metadata": {
            "tags": []
          },
          "execution_count": 18
        }
      ]
    },
    {
      "cell_type": "markdown",
      "metadata": {
        "id": "XUT3sZcu7w0M"
      },
      "source": [
        "##Hyperparameter tuning the XGBRegressor"
      ]
    },
    {
      "cell_type": "code",
      "metadata": {
        "colab": {
          "base_uri": "https://localhost:8080/",
          "height": 405
        },
        "id": "iLSAaUqf-AlI",
        "outputId": "9aab60e1-1c47-416c-aa49-4f95f01d5806"
      },
      "source": [
        "xgb_params = {\n",
        "    'eta' : [0.01,0.015, 0.025, 0.05, 0.1],\n",
        "    'gamma' : [0.05,0.1,0.3,0.5,0.7,0.9,1.0],\n",
        "    'max_depth': [3, 5, 7, 9, 12, 15, 17, 25],\n",
        "    'min_child_weight':[1, 3, 5, 7],\n",
        "    'subsample': [0.6, 0.7, 0.8, 0.9, 1.0],\n",
        "    'colsample_bytree': [0.6, 0.7, 0.8, 0.9, 1.0]\n",
        "}\n",
        "\n",
        "rs_xgb = RandomizedSearchCV(estimator=XGBRegressor(),param_distributions=xgb_params,\n",
        "                            cv = 3, n_iter = 20, n_jobs=-1,\n",
        "                           scoring='neg_mean_squared_error')\n",
        "rs_xgb.fit(X,y)\n",
        "\n",
        "print(\"\\n The best score across ALL searched params:\\n\",\n",
        "      np.sqrt(-rs_xgb.best_score_))\n",
        "\n",
        "print(\"\\n The best parameters across ALL searched params:\\n\",\n",
        "      rs_xgb.best_params_)\n"
      ],
      "execution_count": 19,
      "outputs": [
        {
          "output_type": "error",
          "ename": "KeyboardInterrupt",
          "evalue": "ignored",
          "traceback": [
            "\u001b[0;31m---------------------------------------------------------------------------\u001b[0m",
            "\u001b[0;31mKeyboardInterrupt\u001b[0m                         Traceback (most recent call last)",
            "\u001b[0;32m<ipython-input-19-8cd9f8d92c51>\u001b[0m in \u001b[0;36m<module>\u001b[0;34m()\u001b[0m\n\u001b[1;32m     11\u001b[0m                             \u001b[0mcv\u001b[0m \u001b[0;34m=\u001b[0m \u001b[0;36m3\u001b[0m\u001b[0;34m,\u001b[0m \u001b[0mn_iter\u001b[0m \u001b[0;34m=\u001b[0m \u001b[0;36m20\u001b[0m\u001b[0;34m,\u001b[0m \u001b[0mn_jobs\u001b[0m\u001b[0;34m=\u001b[0m\u001b[0;34m-\u001b[0m\u001b[0;36m1\u001b[0m\u001b[0;34m,\u001b[0m\u001b[0;34m\u001b[0m\u001b[0;34m\u001b[0m\u001b[0m\n\u001b[1;32m     12\u001b[0m                            scoring='neg_mean_squared_error')\n\u001b[0;32m---> 13\u001b[0;31m \u001b[0mrs_xgb\u001b[0m\u001b[0;34m.\u001b[0m\u001b[0mfit\u001b[0m\u001b[0;34m(\u001b[0m\u001b[0mX\u001b[0m\u001b[0;34m,\u001b[0m\u001b[0my\u001b[0m\u001b[0;34m)\u001b[0m\u001b[0;34m\u001b[0m\u001b[0;34m\u001b[0m\u001b[0m\n\u001b[0m\u001b[1;32m     14\u001b[0m \u001b[0;34m\u001b[0m\u001b[0m\n\u001b[1;32m     15\u001b[0m print(\"\\n The best score across ALL searched params:\\n\",\n",
            "\u001b[0;32m/usr/local/lib/python3.7/dist-packages/sklearn/model_selection/_search.py\u001b[0m in \u001b[0;36mfit\u001b[0;34m(self, X, y, groups, **fit_params)\u001b[0m\n\u001b[1;32m    708\u001b[0m                 \u001b[0;32mreturn\u001b[0m \u001b[0mresults\u001b[0m\u001b[0;34m\u001b[0m\u001b[0;34m\u001b[0m\u001b[0m\n\u001b[1;32m    709\u001b[0m \u001b[0;34m\u001b[0m\u001b[0m\n\u001b[0;32m--> 710\u001b[0;31m             \u001b[0mself\u001b[0m\u001b[0;34m.\u001b[0m\u001b[0m_run_search\u001b[0m\u001b[0;34m(\u001b[0m\u001b[0mevaluate_candidates\u001b[0m\u001b[0;34m)\u001b[0m\u001b[0;34m\u001b[0m\u001b[0;34m\u001b[0m\u001b[0m\n\u001b[0m\u001b[1;32m    711\u001b[0m \u001b[0;34m\u001b[0m\u001b[0m\n\u001b[1;32m    712\u001b[0m         \u001b[0;31m# For multi-metric evaluation, store the best_index_, best_params_ and\u001b[0m\u001b[0;34m\u001b[0m\u001b[0;34m\u001b[0m\u001b[0;34m\u001b[0m\u001b[0m\n",
            "\u001b[0;32m/usr/local/lib/python3.7/dist-packages/sklearn/model_selection/_search.py\u001b[0m in \u001b[0;36m_run_search\u001b[0;34m(self, evaluate_candidates)\u001b[0m\n\u001b[1;32m   1482\u001b[0m         evaluate_candidates(ParameterSampler(\n\u001b[1;32m   1483\u001b[0m             \u001b[0mself\u001b[0m\u001b[0;34m.\u001b[0m\u001b[0mparam_distributions\u001b[0m\u001b[0;34m,\u001b[0m \u001b[0mself\u001b[0m\u001b[0;34m.\u001b[0m\u001b[0mn_iter\u001b[0m\u001b[0;34m,\u001b[0m\u001b[0;34m\u001b[0m\u001b[0;34m\u001b[0m\u001b[0m\n\u001b[0;32m-> 1484\u001b[0;31m             random_state=self.random_state))\n\u001b[0m",
            "\u001b[0;32m/usr/local/lib/python3.7/dist-packages/sklearn/model_selection/_search.py\u001b[0m in \u001b[0;36mevaluate_candidates\u001b[0;34m(candidate_params)\u001b[0m\n\u001b[1;32m    687\u001b[0m                                \u001b[0;32mfor\u001b[0m \u001b[0mparameters\u001b[0m\u001b[0;34m,\u001b[0m \u001b[0;34m(\u001b[0m\u001b[0mtrain\u001b[0m\u001b[0;34m,\u001b[0m \u001b[0mtest\u001b[0m\u001b[0;34m)\u001b[0m\u001b[0;34m\u001b[0m\u001b[0;34m\u001b[0m\u001b[0m\n\u001b[1;32m    688\u001b[0m                                in product(candidate_params,\n\u001b[0;32m--> 689\u001b[0;31m                                           cv.split(X, y, groups)))\n\u001b[0m\u001b[1;32m    690\u001b[0m \u001b[0;34m\u001b[0m\u001b[0m\n\u001b[1;32m    691\u001b[0m                 \u001b[0;32mif\u001b[0m \u001b[0mlen\u001b[0m\u001b[0;34m(\u001b[0m\u001b[0mout\u001b[0m\u001b[0;34m)\u001b[0m \u001b[0;34m<\u001b[0m \u001b[0;36m1\u001b[0m\u001b[0;34m:\u001b[0m\u001b[0;34m\u001b[0m\u001b[0;34m\u001b[0m\u001b[0m\n",
            "\u001b[0;32m/usr/local/lib/python3.7/dist-packages/joblib/parallel.py\u001b[0m in \u001b[0;36m__call__\u001b[0;34m(self, iterable)\u001b[0m\n\u001b[1;32m   1052\u001b[0m \u001b[0;34m\u001b[0m\u001b[0m\n\u001b[1;32m   1053\u001b[0m             \u001b[0;32mwith\u001b[0m \u001b[0mself\u001b[0m\u001b[0;34m.\u001b[0m\u001b[0m_backend\u001b[0m\u001b[0;34m.\u001b[0m\u001b[0mretrieval_context\u001b[0m\u001b[0;34m(\u001b[0m\u001b[0;34m)\u001b[0m\u001b[0;34m:\u001b[0m\u001b[0;34m\u001b[0m\u001b[0;34m\u001b[0m\u001b[0m\n\u001b[0;32m-> 1054\u001b[0;31m                 \u001b[0mself\u001b[0m\u001b[0;34m.\u001b[0m\u001b[0mretrieve\u001b[0m\u001b[0;34m(\u001b[0m\u001b[0;34m)\u001b[0m\u001b[0;34m\u001b[0m\u001b[0;34m\u001b[0m\u001b[0m\n\u001b[0m\u001b[1;32m   1055\u001b[0m             \u001b[0;31m# Make sure that we get a last message telling us we are done\u001b[0m\u001b[0;34m\u001b[0m\u001b[0;34m\u001b[0m\u001b[0;34m\u001b[0m\u001b[0m\n\u001b[1;32m   1056\u001b[0m             \u001b[0melapsed_time\u001b[0m \u001b[0;34m=\u001b[0m \u001b[0mtime\u001b[0m\u001b[0;34m.\u001b[0m\u001b[0mtime\u001b[0m\u001b[0;34m(\u001b[0m\u001b[0;34m)\u001b[0m \u001b[0;34m-\u001b[0m \u001b[0mself\u001b[0m\u001b[0;34m.\u001b[0m\u001b[0m_start_time\u001b[0m\u001b[0;34m\u001b[0m\u001b[0;34m\u001b[0m\u001b[0m\n",
            "\u001b[0;32m/usr/local/lib/python3.7/dist-packages/joblib/parallel.py\u001b[0m in \u001b[0;36mretrieve\u001b[0;34m(self)\u001b[0m\n\u001b[1;32m    931\u001b[0m             \u001b[0;32mtry\u001b[0m\u001b[0;34m:\u001b[0m\u001b[0;34m\u001b[0m\u001b[0;34m\u001b[0m\u001b[0m\n\u001b[1;32m    932\u001b[0m                 \u001b[0;32mif\u001b[0m \u001b[0mgetattr\u001b[0m\u001b[0;34m(\u001b[0m\u001b[0mself\u001b[0m\u001b[0;34m.\u001b[0m\u001b[0m_backend\u001b[0m\u001b[0;34m,\u001b[0m \u001b[0;34m'supports_timeout'\u001b[0m\u001b[0;34m,\u001b[0m \u001b[0;32mFalse\u001b[0m\u001b[0;34m)\u001b[0m\u001b[0;34m:\u001b[0m\u001b[0;34m\u001b[0m\u001b[0;34m\u001b[0m\u001b[0m\n\u001b[0;32m--> 933\u001b[0;31m                     \u001b[0mself\u001b[0m\u001b[0;34m.\u001b[0m\u001b[0m_output\u001b[0m\u001b[0;34m.\u001b[0m\u001b[0mextend\u001b[0m\u001b[0;34m(\u001b[0m\u001b[0mjob\u001b[0m\u001b[0;34m.\u001b[0m\u001b[0mget\u001b[0m\u001b[0;34m(\u001b[0m\u001b[0mtimeout\u001b[0m\u001b[0;34m=\u001b[0m\u001b[0mself\u001b[0m\u001b[0;34m.\u001b[0m\u001b[0mtimeout\u001b[0m\u001b[0;34m)\u001b[0m\u001b[0;34m)\u001b[0m\u001b[0;34m\u001b[0m\u001b[0;34m\u001b[0m\u001b[0m\n\u001b[0m\u001b[1;32m    934\u001b[0m                 \u001b[0;32melse\u001b[0m\u001b[0;34m:\u001b[0m\u001b[0;34m\u001b[0m\u001b[0;34m\u001b[0m\u001b[0m\n\u001b[1;32m    935\u001b[0m                     \u001b[0mself\u001b[0m\u001b[0;34m.\u001b[0m\u001b[0m_output\u001b[0m\u001b[0;34m.\u001b[0m\u001b[0mextend\u001b[0m\u001b[0;34m(\u001b[0m\u001b[0mjob\u001b[0m\u001b[0;34m.\u001b[0m\u001b[0mget\u001b[0m\u001b[0;34m(\u001b[0m\u001b[0;34m)\u001b[0m\u001b[0;34m)\u001b[0m\u001b[0;34m\u001b[0m\u001b[0;34m\u001b[0m\u001b[0m\n",
            "\u001b[0;32m/usr/local/lib/python3.7/dist-packages/joblib/_parallel_backends.py\u001b[0m in \u001b[0;36mwrap_future_result\u001b[0;34m(future, timeout)\u001b[0m\n\u001b[1;32m    540\u001b[0m         AsyncResults.get from multiprocessing.\"\"\"\n\u001b[1;32m    541\u001b[0m         \u001b[0;32mtry\u001b[0m\u001b[0;34m:\u001b[0m\u001b[0;34m\u001b[0m\u001b[0;34m\u001b[0m\u001b[0m\n\u001b[0;32m--> 542\u001b[0;31m             \u001b[0;32mreturn\u001b[0m \u001b[0mfuture\u001b[0m\u001b[0;34m.\u001b[0m\u001b[0mresult\u001b[0m\u001b[0;34m(\u001b[0m\u001b[0mtimeout\u001b[0m\u001b[0;34m=\u001b[0m\u001b[0mtimeout\u001b[0m\u001b[0;34m)\u001b[0m\u001b[0;34m\u001b[0m\u001b[0;34m\u001b[0m\u001b[0m\n\u001b[0m\u001b[1;32m    543\u001b[0m         \u001b[0;32mexcept\u001b[0m \u001b[0mCfTimeoutError\u001b[0m \u001b[0;32mas\u001b[0m \u001b[0me\u001b[0m\u001b[0;34m:\u001b[0m\u001b[0;34m\u001b[0m\u001b[0;34m\u001b[0m\u001b[0m\n\u001b[1;32m    544\u001b[0m             \u001b[0;32mraise\u001b[0m \u001b[0mTimeoutError\u001b[0m \u001b[0;32mfrom\u001b[0m \u001b[0me\u001b[0m\u001b[0;34m\u001b[0m\u001b[0;34m\u001b[0m\u001b[0m\n",
            "\u001b[0;32m/usr/lib/python3.7/concurrent/futures/_base.py\u001b[0m in \u001b[0;36mresult\u001b[0;34m(self, timeout)\u001b[0m\n\u001b[1;32m    428\u001b[0m                 \u001b[0;32mreturn\u001b[0m \u001b[0mself\u001b[0m\u001b[0;34m.\u001b[0m\u001b[0m__get_result\u001b[0m\u001b[0;34m(\u001b[0m\u001b[0;34m)\u001b[0m\u001b[0;34m\u001b[0m\u001b[0;34m\u001b[0m\u001b[0m\n\u001b[1;32m    429\u001b[0m \u001b[0;34m\u001b[0m\u001b[0m\n\u001b[0;32m--> 430\u001b[0;31m             \u001b[0mself\u001b[0m\u001b[0;34m.\u001b[0m\u001b[0m_condition\u001b[0m\u001b[0;34m.\u001b[0m\u001b[0mwait\u001b[0m\u001b[0;34m(\u001b[0m\u001b[0mtimeout\u001b[0m\u001b[0;34m)\u001b[0m\u001b[0;34m\u001b[0m\u001b[0;34m\u001b[0m\u001b[0m\n\u001b[0m\u001b[1;32m    431\u001b[0m \u001b[0;34m\u001b[0m\u001b[0m\n\u001b[1;32m    432\u001b[0m             \u001b[0;32mif\u001b[0m \u001b[0mself\u001b[0m\u001b[0;34m.\u001b[0m\u001b[0m_state\u001b[0m \u001b[0;32min\u001b[0m \u001b[0;34m[\u001b[0m\u001b[0mCANCELLED\u001b[0m\u001b[0;34m,\u001b[0m \u001b[0mCANCELLED_AND_NOTIFIED\u001b[0m\u001b[0;34m]\u001b[0m\u001b[0;34m:\u001b[0m\u001b[0;34m\u001b[0m\u001b[0;34m\u001b[0m\u001b[0m\n",
            "\u001b[0;32m/usr/lib/python3.7/threading.py\u001b[0m in \u001b[0;36mwait\u001b[0;34m(self, timeout)\u001b[0m\n\u001b[1;32m    294\u001b[0m         \u001b[0;32mtry\u001b[0m\u001b[0;34m:\u001b[0m    \u001b[0;31m# restore state no matter what (e.g., KeyboardInterrupt)\u001b[0m\u001b[0;34m\u001b[0m\u001b[0;34m\u001b[0m\u001b[0m\n\u001b[1;32m    295\u001b[0m             \u001b[0;32mif\u001b[0m \u001b[0mtimeout\u001b[0m \u001b[0;32mis\u001b[0m \u001b[0;32mNone\u001b[0m\u001b[0;34m:\u001b[0m\u001b[0;34m\u001b[0m\u001b[0;34m\u001b[0m\u001b[0m\n\u001b[0;32m--> 296\u001b[0;31m                 \u001b[0mwaiter\u001b[0m\u001b[0;34m.\u001b[0m\u001b[0macquire\u001b[0m\u001b[0;34m(\u001b[0m\u001b[0;34m)\u001b[0m\u001b[0;34m\u001b[0m\u001b[0;34m\u001b[0m\u001b[0m\n\u001b[0m\u001b[1;32m    297\u001b[0m                 \u001b[0mgotit\u001b[0m \u001b[0;34m=\u001b[0m \u001b[0;32mTrue\u001b[0m\u001b[0;34m\u001b[0m\u001b[0;34m\u001b[0m\u001b[0m\n\u001b[1;32m    298\u001b[0m             \u001b[0;32melse\u001b[0m\u001b[0;34m:\u001b[0m\u001b[0;34m\u001b[0m\u001b[0;34m\u001b[0m\u001b[0m\n",
            "\u001b[0;31mKeyboardInterrupt\u001b[0m: "
          ]
        }
      ]
    },
    {
      "cell_type": "markdown",
      "metadata": {
        "id": "T_T3l57WryWE"
      },
      "source": [
        "## CatBoostRegressor\n",
        "\n",
        "catboost is doing better than XGBR with RMSE = 0.1025, without doing any hypeparameter tuning.\n",
        "\n",
        "\n"
      ]
    },
    {
      "cell_type": "code",
      "metadata": {
        "colab": {
          "base_uri": "https://localhost:8080/"
        },
        "id": "lTljnsKcrxdt",
        "outputId": "2ddfa4b0-f140-4bbb-8bf7-80db13c5f221"
      },
      "source": [
        "cat = CatBoostRegressor()\n",
        "cat.fit(X_train,y_train, verbose=0 )"
      ],
      "execution_count": 20,
      "outputs": [
        {
          "output_type": "execute_result",
          "data": {
            "text/plain": [
              "<catboost.core.CatBoostRegressor at 0x7f835c0de850>"
            ]
          },
          "metadata": {
            "tags": []
          },
          "execution_count": 20
        }
      ]
    },
    {
      "cell_type": "code",
      "metadata": {
        "colab": {
          "base_uri": "https://localhost:8080/"
        },
        "id": "2CGgh2CUsnPM",
        "outputId": "f3bb9a7c-bdd3-4898-a2ef-4efddf2dc29c"
      },
      "source": [
        "mean_squared_error(y_val, cat.predict(X_val), squared=False)"
      ],
      "execution_count": 21,
      "outputs": [
        {
          "output_type": "execute_result",
          "data": {
            "text/plain": [
              "0.10258221870011036"
            ]
          },
          "metadata": {
            "tags": []
          },
          "execution_count": 21
        }
      ]
    },
    {
      "cell_type": "markdown",
      "metadata": {
        "id": "F9NszBey8xd2"
      },
      "source": [
        "## Hyperparameter Tuninig CatBoostRegressor\n",
        "the best parameter found :\n",
        "depth= 9, iterations = 97, learning_rate= 0.1"
      ]
    },
    {
      "cell_type": "code",
      "metadata": {
        "id": "qGNsCckmQAVH"
      },
      "source": [
        "from scipy.stats import uniform as sp_randFloat\n",
        "from scipy.stats import randint as sp_randInt  \n",
        "\n",
        "parameters = {'depth'         : sp_randInt(4, 11),\n",
        "                  'learning_rate' : sp_randFloat(),\n",
        "                  'iterations'    : sp_randInt(10, 100)\n",
        "                 }\n",
        "randm = RandomizedSearchCV(estimator=CatBoostRegressor(), param_distributions = parameters, \n",
        "                               cv = 3, n_iter = 50, n_jobs=-1,\n",
        "                           scoring='neg_mean_squared_error')\n",
        "randm.fit(X, y)\n",
        "\n",
        "# Results from Random Search\n",
        "print(\"\\n========================================================\")\n",
        "print(\" Results from Random Search \" )\n",
        "print(\"========================================================\")    \n",
        "\n",
        "print(\"\\n The best estimator across ALL searched params:\\n\",\n",
        "      randm.best_estimator_)\n",
        "\n",
        "print(\"\\n The best score across ALL searched params:\\n\",\n",
        "      np.sqrt(-randm.best_score_))\n",
        "\n",
        "print(\"\\n The best parameters across ALL searched params:\\n\",\n",
        "      randm.best_params_)\n",
        "\n",
        "print(\"\\n ========================================================\")"
      ],
      "execution_count": null,
      "outputs": []
    },
    {
      "cell_type": "markdown",
      "metadata": {
        "id": "0-QEApSxszO7"
      },
      "source": [
        "## RandomForestRegressor\n",
        "after doing Randomized Search we found the best paramters and the score still worse than CatBoost.\n",
        "RMSE =0.10300322393885476"
      ]
    },
    {
      "cell_type": "code",
      "metadata": {
        "id": "O0ooWBmvs3l-",
        "colab": {
          "base_uri": "https://localhost:8080/"
        },
        "outputId": "c00c0c68-dcdc-4f2e-ef45-946122c3cca6"
      },
      "source": [
        "rf = RandomForestRegressor( n_estimators= 300, min_samples_split= 10,\n",
        "                           min_samples_leaf= 1,\n",
        "                           max_features = 'log2', max_depth= 30,random_state=42)\n",
        "rf.fit(X_train, y_train)\n",
        "mean_squared_error(y_val, rf.predict(X_val), squared=False)"
      ],
      "execution_count": 22,
      "outputs": [
        {
          "output_type": "execute_result",
          "data": {
            "text/plain": [
              "0.10300322393885476"
            ]
          },
          "metadata": {
            "tags": []
          },
          "execution_count": 22
        }
      ]
    },
    {
      "cell_type": "markdown",
      "metadata": {
        "id": "Q84323ul995n"
      },
      "source": [
        "# Training the models on all the data"
      ]
    },
    {
      "cell_type": "code",
      "metadata": {
        "id": "cgxpg0DPDNaN"
      },
      "source": [
        "#random forest\n",
        "model1 = RandomForestRegressor(n_estimators= 300, min_samples_split= 10,\n",
        "                           min_samples_leaf= 1,\n",
        "                           max_features = 'log2', max_depth= 30, random_state=42)\n",
        "model1.fit(X,y)\n",
        "pred1 = model1.predict(X_test)"
      ],
      "execution_count": 23,
      "outputs": []
    },
    {
      "cell_type": "code",
      "metadata": {
        "colab": {
          "base_uri": "https://localhost:8080/"
        },
        "id": "il8TYl_IEVac",
        "outputId": "d7b74599-92c5-4c11-a702-298393e2e1ac"
      },
      "source": [
        "#CatBooost\n",
        "model2 = CatBoostRegressor(random_state=42,\n",
        "                           depth= 9, iterations = 97, learning_rate= 0.1)\n",
        "model2.fit(X,y)\n",
        "pred2 = model2.predict(X_test)"
      ],
      "execution_count": 24,
      "outputs": [
        {
          "output_type": "stream",
          "text": [
            "0:\tlearn: 0.1823887\ttotal: 35.3ms\tremaining: 3.39s\n",
            "1:\tlearn: 0.1715099\ttotal: 63.3ms\tremaining: 3s\n",
            "2:\tlearn: 0.1622356\ttotal: 92.5ms\tremaining: 2.9s\n",
            "3:\tlearn: 0.1541051\ttotal: 121ms\tremaining: 2.81s\n",
            "4:\tlearn: 0.1472003\ttotal: 149ms\tremaining: 2.74s\n",
            "5:\tlearn: 0.1411334\ttotal: 177ms\tremaining: 2.68s\n",
            "6:\tlearn: 0.1359122\ttotal: 205ms\tremaining: 2.64s\n",
            "7:\tlearn: 0.1315396\ttotal: 233ms\tremaining: 2.59s\n",
            "8:\tlearn: 0.1277240\ttotal: 266ms\tremaining: 2.6s\n",
            "9:\tlearn: 0.1243679\ttotal: 294ms\tremaining: 2.56s\n",
            "10:\tlearn: 0.1216143\ttotal: 323ms\tremaining: 2.52s\n",
            "11:\tlearn: 0.1192169\ttotal: 351ms\tremaining: 2.48s\n",
            "12:\tlearn: 0.1173772\ttotal: 361ms\tremaining: 2.33s\n",
            "13:\tlearn: 0.1157563\ttotal: 392ms\tremaining: 2.33s\n",
            "14:\tlearn: 0.1140453\ttotal: 420ms\tremaining: 2.29s\n",
            "15:\tlearn: 0.1126675\ttotal: 447ms\tremaining: 2.26s\n",
            "16:\tlearn: 0.1115681\ttotal: 478ms\tremaining: 2.25s\n",
            "17:\tlearn: 0.1105798\ttotal: 506ms\tremaining: 2.22s\n",
            "18:\tlearn: 0.1096316\ttotal: 534ms\tremaining: 2.19s\n",
            "19:\tlearn: 0.1088637\ttotal: 561ms\tremaining: 2.16s\n",
            "20:\tlearn: 0.1082417\ttotal: 588ms\tremaining: 2.13s\n",
            "21:\tlearn: 0.1077055\ttotal: 616ms\tremaining: 2.1s\n",
            "22:\tlearn: 0.1070698\ttotal: 644ms\tremaining: 2.07s\n",
            "23:\tlearn: 0.1064714\ttotal: 679ms\tremaining: 2.07s\n",
            "24:\tlearn: 0.1060244\ttotal: 714ms\tremaining: 2.06s\n",
            "25:\tlearn: 0.1057134\ttotal: 743ms\tremaining: 2.03s\n",
            "26:\tlearn: 0.1052744\ttotal: 773ms\tremaining: 2s\n",
            "27:\tlearn: 0.1049732\ttotal: 800ms\tremaining: 1.97s\n",
            "28:\tlearn: 0.1046489\ttotal: 831ms\tremaining: 1.95s\n",
            "29:\tlearn: 0.1043156\ttotal: 862ms\tremaining: 1.92s\n",
            "30:\tlearn: 0.1040835\ttotal: 892ms\tremaining: 1.9s\n",
            "31:\tlearn: 0.1038641\ttotal: 919ms\tremaining: 1.87s\n",
            "32:\tlearn: 0.1037074\ttotal: 946ms\tremaining: 1.83s\n",
            "33:\tlearn: 0.1033650\ttotal: 974ms\tremaining: 1.8s\n",
            "34:\tlearn: 0.1032184\ttotal: 1s\tremaining: 1.77s\n",
            "35:\tlearn: 0.1030320\ttotal: 1.03s\tremaining: 1.74s\n",
            "36:\tlearn: 0.1028809\ttotal: 1.06s\tremaining: 1.71s\n",
            "37:\tlearn: 0.1026381\ttotal: 1.09s\tremaining: 1.69s\n",
            "38:\tlearn: 0.1024590\ttotal: 1.12s\tremaining: 1.66s\n",
            "39:\tlearn: 0.1022769\ttotal: 1.15s\tremaining: 1.63s\n",
            "40:\tlearn: 0.1020487\ttotal: 1.18s\tremaining: 1.6s\n",
            "41:\tlearn: 0.1019386\ttotal: 1.2s\tremaining: 1.57s\n",
            "42:\tlearn: 0.1017942\ttotal: 1.23s\tremaining: 1.54s\n",
            "43:\tlearn: 0.1016232\ttotal: 1.26s\tremaining: 1.51s\n",
            "44:\tlearn: 0.1014826\ttotal: 1.29s\tremaining: 1.49s\n",
            "45:\tlearn: 0.1013617\ttotal: 1.32s\tremaining: 1.46s\n",
            "46:\tlearn: 0.1012621\ttotal: 1.35s\tremaining: 1.43s\n",
            "47:\tlearn: 0.1010988\ttotal: 1.38s\tremaining: 1.4s\n",
            "48:\tlearn: 0.1009464\ttotal: 1.41s\tremaining: 1.38s\n",
            "49:\tlearn: 0.1007800\ttotal: 1.44s\tremaining: 1.35s\n",
            "50:\tlearn: 0.1005897\ttotal: 1.47s\tremaining: 1.32s\n",
            "51:\tlearn: 0.1004695\ttotal: 1.49s\tremaining: 1.29s\n",
            "52:\tlearn: 0.1003071\ttotal: 1.52s\tremaining: 1.26s\n",
            "53:\tlearn: 0.1001425\ttotal: 1.55s\tremaining: 1.24s\n",
            "54:\tlearn: 0.0999987\ttotal: 1.58s\tremaining: 1.21s\n",
            "55:\tlearn: 0.0998168\ttotal: 1.62s\tremaining: 1.18s\n",
            "56:\tlearn: 0.0996705\ttotal: 1.65s\tremaining: 1.15s\n",
            "57:\tlearn: 0.0995478\ttotal: 1.68s\tremaining: 1.13s\n",
            "58:\tlearn: 0.0994299\ttotal: 1.71s\tremaining: 1.1s\n",
            "59:\tlearn: 0.0992530\ttotal: 1.73s\tremaining: 1.07s\n",
            "60:\tlearn: 0.0991537\ttotal: 1.76s\tremaining: 1.04s\n",
            "61:\tlearn: 0.0990086\ttotal: 1.79s\tremaining: 1.01s\n",
            "62:\tlearn: 0.0989152\ttotal: 1.82s\tremaining: 982ms\n",
            "63:\tlearn: 0.0988138\ttotal: 1.85s\tremaining: 953ms\n",
            "64:\tlearn: 0.0987153\ttotal: 1.88s\tremaining: 924ms\n",
            "65:\tlearn: 0.0986630\ttotal: 1.9s\tremaining: 895ms\n",
            "66:\tlearn: 0.0985218\ttotal: 1.93s\tremaining: 865ms\n",
            "67:\tlearn: 0.0983561\ttotal: 1.96s\tremaining: 836ms\n",
            "68:\tlearn: 0.0982433\ttotal: 2.01s\tremaining: 816ms\n",
            "69:\tlearn: 0.0981640\ttotal: 2.04s\tremaining: 786ms\n",
            "70:\tlearn: 0.0980518\ttotal: 2.07s\tremaining: 757ms\n",
            "71:\tlearn: 0.0979864\ttotal: 2.1s\tremaining: 728ms\n",
            "72:\tlearn: 0.0979343\ttotal: 2.12s\tremaining: 698ms\n",
            "73:\tlearn: 0.0977888\ttotal: 2.15s\tremaining: 669ms\n",
            "74:\tlearn: 0.0976956\ttotal: 2.18s\tremaining: 639ms\n",
            "75:\tlearn: 0.0974984\ttotal: 2.21s\tremaining: 610ms\n",
            "76:\tlearn: 0.0973856\ttotal: 2.24s\tremaining: 582ms\n",
            "77:\tlearn: 0.0972974\ttotal: 2.27s\tremaining: 552ms\n",
            "78:\tlearn: 0.0971985\ttotal: 2.29s\tremaining: 523ms\n",
            "79:\tlearn: 0.0970814\ttotal: 2.32s\tremaining: 494ms\n",
            "80:\tlearn: 0.0969650\ttotal: 2.35s\tremaining: 465ms\n",
            "81:\tlearn: 0.0968199\ttotal: 2.38s\tremaining: 435ms\n",
            "82:\tlearn: 0.0967380\ttotal: 2.41s\tremaining: 406ms\n",
            "83:\tlearn: 0.0966238\ttotal: 2.43s\tremaining: 377ms\n",
            "84:\tlearn: 0.0965593\ttotal: 2.46s\tremaining: 348ms\n",
            "85:\tlearn: 0.0964503\ttotal: 2.49s\tremaining: 318ms\n",
            "86:\tlearn: 0.0963307\ttotal: 2.52s\tremaining: 289ms\n",
            "87:\tlearn: 0.0962239\ttotal: 2.54s\tremaining: 260ms\n",
            "88:\tlearn: 0.0961117\ttotal: 2.57s\tremaining: 231ms\n",
            "89:\tlearn: 0.0960547\ttotal: 2.6s\tremaining: 202ms\n",
            "90:\tlearn: 0.0959748\ttotal: 2.63s\tremaining: 173ms\n",
            "91:\tlearn: 0.0958981\ttotal: 2.65s\tremaining: 144ms\n",
            "92:\tlearn: 0.0957830\ttotal: 2.69s\tremaining: 116ms\n",
            "93:\tlearn: 0.0956433\ttotal: 2.72s\tremaining: 86.8ms\n",
            "94:\tlearn: 0.0955192\ttotal: 2.75s\tremaining: 57.9ms\n",
            "95:\tlearn: 0.0954340\ttotal: 2.77s\tremaining: 28.9ms\n",
            "96:\tlearn: 0.0953099\ttotal: 2.8s\tremaining: 0us\n"
          ],
          "name": "stdout"
        }
      ]
    },
    {
      "cell_type": "code",
      "metadata": {
        "colab": {
          "base_uri": "https://localhost:8080/"
        },
        "id": "HrfQupoCEtnl",
        "outputId": "e2a4b00d-3bbc-4917-b2da-97c6fb5e764c"
      },
      "source": [
        "#XGBoost\n",
        "model3= XGBRegressor(subsample= 0.9, min_child_weight= 1, max_depth=17,\n",
        "                     gamma= 0.05, eta= 0.025, colsample_bytree= 0.7,random_state=42)\n",
        "model3.fit(X,y)\n",
        "pred3 = model3.predict(X_test)"
      ],
      "execution_count": 25,
      "outputs": [
        {
          "output_type": "stream",
          "text": [
            "[09:33:14] WARNING: /workspace/src/objective/regression_obj.cu:152: reg:linear is now deprecated in favor of reg:squarederror.\n"
          ],
          "name": "stdout"
        }
      ]
    },
    {
      "cell_type": "markdown",
      "metadata": {
        "id": "TNYUUa5l-X0q"
      },
      "source": [
        "# Submission \n",
        "I have done two submissions\n",
        "  1. CatBoostRegressor() because it's doing better than the other models\n",
        "  2. An Ensemble of the three models "
      ]
    },
    {
      "cell_type": "code",
      "metadata": {
        "colab": {
          "base_uri": "https://localhost:8080/",
          "height": 206
        },
        "id": "NJj1CVfK-WtG",
        "outputId": "c13e88f8-3ac9-4667-c2a5-c95699770b1d"
      },
      "source": [
        "#catboost predictions\n",
        "sub_cat = sub.copy()\n",
        "sub_cat['Target'] = pred2\n",
        "sub_cat.head()"
      ],
      "execution_count": 26,
      "outputs": [
        {
          "output_type": "execute_result",
          "data": {
            "text/html": [
              "<div>\n",
              "<style scoped>\n",
              "    .dataframe tbody tr th:only-of-type {\n",
              "        vertical-align: middle;\n",
              "    }\n",
              "\n",
              "    .dataframe tbody tr th {\n",
              "        vertical-align: top;\n",
              "    }\n",
              "\n",
              "    .dataframe thead th {\n",
              "        text-align: right;\n",
              "    }\n",
              "</style>\n",
              "<table border=\"1\" class=\"dataframe\">\n",
              "  <thead>\n",
              "    <tr style=\"text-align: right;\">\n",
              "      <th></th>\n",
              "      <th>ID</th>\n",
              "      <th>Target</th>\n",
              "    </tr>\n",
              "  </thead>\n",
              "  <tbody>\n",
              "    <tr>\n",
              "      <th>0</th>\n",
              "      <td>ID_AAcismbB</td>\n",
              "      <td>0.137495</td>\n",
              "    </tr>\n",
              "    <tr>\n",
              "      <th>1</th>\n",
              "      <td>ID_AAeBMsji</td>\n",
              "      <td>0.244239</td>\n",
              "    </tr>\n",
              "    <tr>\n",
              "      <th>2</th>\n",
              "      <td>ID_AAjFMjzy</td>\n",
              "      <td>0.593187</td>\n",
              "    </tr>\n",
              "    <tr>\n",
              "      <th>3</th>\n",
              "      <td>ID_AAmMOEEC</td>\n",
              "      <td>0.404894</td>\n",
              "    </tr>\n",
              "    <tr>\n",
              "      <th>4</th>\n",
              "      <td>ID_ABguzDxp</td>\n",
              "      <td>0.289453</td>\n",
              "    </tr>\n",
              "  </tbody>\n",
              "</table>\n",
              "</div>"
            ],
            "text/plain": [
              "            ID    Target\n",
              "0  ID_AAcismbB  0.137495\n",
              "1  ID_AAeBMsji  0.244239\n",
              "2  ID_AAjFMjzy  0.593187\n",
              "3  ID_AAmMOEEC  0.404894\n",
              "4  ID_ABguzDxp  0.289453"
            ]
          },
          "metadata": {
            "tags": []
          },
          "execution_count": 26
        }
      ]
    },
    {
      "cell_type": "code",
      "metadata": {
        "id": "BgxEyIepmvT7",
        "colab": {
          "base_uri": "https://localhost:8080/"
        },
        "outputId": "ba922b9e-ea67-413b-a9b1-0ea38c5160e9"
      },
      "source": [
        "#ensembled predictions\n",
        "ensembled = 0.2*pred1+0.6*pred2+ 0.2*pred3\n",
        "ensembled"
      ],
      "execution_count": 27,
      "outputs": [
        {
          "output_type": "execute_result",
          "data": {
            "text/plain": [
              "array([0.14434033, 0.24177806, 0.6075078 , ..., 0.46744096, 0.16293374,\n",
              "       0.37071965])"
            ]
          },
          "metadata": {
            "tags": []
          },
          "execution_count": 27
        }
      ]
    },
    {
      "cell_type": "code",
      "metadata": {
        "colab": {
          "base_uri": "https://localhost:8080/",
          "height": 206
        },
        "id": "VS6ydxnKn0e9",
        "outputId": "988e3e98-f0f2-4354-fd4b-adfe16b71373"
      },
      "source": [
        "sub_ens = sub.copy()\n",
        "sub_ens['Target'] = ensembled\n",
        "sub_ens.head()"
      ],
      "execution_count": 28,
      "outputs": [
        {
          "output_type": "execute_result",
          "data": {
            "text/html": [
              "<div>\n",
              "<style scoped>\n",
              "    .dataframe tbody tr th:only-of-type {\n",
              "        vertical-align: middle;\n",
              "    }\n",
              "\n",
              "    .dataframe tbody tr th {\n",
              "        vertical-align: top;\n",
              "    }\n",
              "\n",
              "    .dataframe thead th {\n",
              "        text-align: right;\n",
              "    }\n",
              "</style>\n",
              "<table border=\"1\" class=\"dataframe\">\n",
              "  <thead>\n",
              "    <tr style=\"text-align: right;\">\n",
              "      <th></th>\n",
              "      <th>ID</th>\n",
              "      <th>Target</th>\n",
              "    </tr>\n",
              "  </thead>\n",
              "  <tbody>\n",
              "    <tr>\n",
              "      <th>0</th>\n",
              "      <td>ID_AAcismbB</td>\n",
              "      <td>0.144340</td>\n",
              "    </tr>\n",
              "    <tr>\n",
              "      <th>1</th>\n",
              "      <td>ID_AAeBMsji</td>\n",
              "      <td>0.241778</td>\n",
              "    </tr>\n",
              "    <tr>\n",
              "      <th>2</th>\n",
              "      <td>ID_AAjFMjzy</td>\n",
              "      <td>0.607508</td>\n",
              "    </tr>\n",
              "    <tr>\n",
              "      <th>3</th>\n",
              "      <td>ID_AAmMOEEC</td>\n",
              "      <td>0.401442</td>\n",
              "    </tr>\n",
              "    <tr>\n",
              "      <th>4</th>\n",
              "      <td>ID_ABguzDxp</td>\n",
              "      <td>0.288692</td>\n",
              "    </tr>\n",
              "  </tbody>\n",
              "</table>\n",
              "</div>"
            ],
            "text/plain": [
              "            ID    Target\n",
              "0  ID_AAcismbB  0.144340\n",
              "1  ID_AAeBMsji  0.241778\n",
              "2  ID_AAjFMjzy  0.607508\n",
              "3  ID_AAmMOEEC  0.401442\n",
              "4  ID_ABguzDxp  0.288692"
            ]
          },
          "metadata": {
            "tags": []
          },
          "execution_count": 28
        }
      ]
    },
    {
      "cell_type": "code",
      "metadata": {
        "id": "tzrQMybdn77h"
      },
      "source": [
        "sub_cat.to_csv('sub_cat.csv', index=False)\n",
        "sub_ens.to_csv('sub_ens.csv', index=False)\n",
        "\n"
      ],
      "execution_count": null,
      "outputs": []
    }
  ]
}